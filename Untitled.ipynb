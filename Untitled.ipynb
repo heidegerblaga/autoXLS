{
 "cells": [
  {
   "cell_type": "code",
   "execution_count": 1,
   "id": "03e512f9",
   "metadata": {},
   "outputs": [],
   "source": [
    "import pandas as pd\n",
    "\n",
    " \n",
    "\n",
    "\n",
    "x = pd.read_excel(\"Draft.xlsx\",sheet_name=\"Raport Spedytor - przyklad\",skiprows=2)\n",
    "\n",
    "podstawa = 0\n",
    "\n",
    "for i in range(0,x[\"Klient\"].size-1):\n",
    "    if \"Plastik\" in x[\"Klient\"][i]:\n",
    "        podstawa += x[\"Prowizja\"][i]*0.5\n",
    "    else :\n",
    "        podstawa += x[\"Prowizja\"][i]"
   ]
  },
  {
   "cell_type": "code",
   "execution_count": 2,
   "id": "e0bb4de7",
   "metadata": {
    "scrolled": true
   },
   "outputs": [],
   "source": [
    "stawki = pd.read_excel(\"Draft.xlsx\",sheet_name=\"Stawki prowizji\",index_col = 1)\n"
   ]
  },
  {
   "cell_type": "code",
   "execution_count": 3,
   "id": "8ce44c13",
   "metadata": {
    "scrolled": true
   },
   "outputs": [],
   "source": [
    "y = pd.read_excel(\"Draft.xlsx\",sheet_name=\"Raport Spedytorzy - przyklad\",skiprows=2, index_col = 1)\n",
    "\n"
   ]
  },
  {
   "cell_type": "code",
   "execution_count": 4,
   "id": "2d95666a",
   "metadata": {
    "scrolled": true
   },
   "outputs": [
    {
     "name": "stderr",
     "output_type": "stream",
     "text": [
      "C:\\Users\\pawel\\AppData\\Local\\Temp\\ipykernel_19968\\3340265559.py:2: FutureWarning: Passing a set as an indexer is deprecated and will raise in a future version. Use a list instead.\n",
      "  count=table[{\"ID Teamu\",\"ID kalkulacji\",\"Prowizja\",\"ID kalkulacji\"}].drop_duplicates(keep=\"first\")\n"
     ]
    }
   ],
   "source": [
    "table = pd.merge(stawki, y, left_on=\"ID Spedytora\", right_index=True, how=\"left\", sort=False)\n",
    "count=table[{\"ID Teamu\",\"ID kalkulacji\",\"Prowizja\",\"ID kalkulacji\"}].drop_duplicates(keep=\"first\")"
   ]
  },
  {
   "cell_type": "code",
   "execution_count": 7,
   "id": "59f03997",
   "metadata": {
    "scrolled": false
   },
   "outputs": [],
   "source": [
    "z = count.sort_values(by=['ID Teamu'])\n",
    "\n",
    "z[z[\"ID Teamu\"]==1]\n",
    "o = z.drop_duplicates(\"ID Teamu\")[\"ID Teamu\"].size\n",
    "\n",
    "S = lambda wynik,stawka,potracenia,dodatki : wynik*stawka-potracenia+dodatki\n",
    "T1= lambda wynik,stawka,potracenia,dodatki : wynik*stawka-potracenia+dodatki\n",
    "T2= lambda wynik,stawka,potracenia,dodatki : (wynik*stawka)*0.82-potracenia+dodatki\n",
    "T3= lambda wynik,stawka,potracenia,dodatki,koszty : (wynik-koszty)*stawka-potracenia+dodatki\n",
    "\n",
    "for i in range(1,o+1 ):\n",
    "    \n",
    "     #print(\"***\")\n",
    "     #print(z[z[\"ID Teamu\"]==i])\n",
    "            \n",
    "     for j in range (0,z[z[\"ID Teamu\"]==i][\"ID Teamu\"].size):\n",
    "            \n",
    "             if(\"S\" in list(z[z[\"ID Teamu\"]==i][\"ID kalkulacji\"])[j]):\n",
    "                  \n",
    "                  prow = list(z[z[\"ID Teamu\"]==i][\"Prowizja\"])[j]\n",
    "                  prog = list(stawki[(stawki.index==z[z[\"ID Teamu\"]==i].index[j])][\"Próg PLN\"])\n",
    "                  stopa = 0\n",
    "                \n",
    "                  for k in range(0,len(prog)-1):\n",
    "                        if (prog[k]-prow)>0 : \n",
    "                            stopa = list(stawki[(stawki.index==z[z[\"ID Teamu\"]==i].index[j])][\"Stawka %\"])[k-1]\n",
    "                  #print(list(z[z[\"ID Teamu\"]==i][\"Prowizja\"])[j])\n",
    "                  #print(list(stawki[(stawki.index==z[z[\"ID Teamu\"]==i].index[j])][\"Próg PLN\"]))\n",
    "                  #print(stopa)\n",
    "                  #print(S(list(z[z[\"ID Teamu\"]==i][\"Prowizja\"])[j],stopa,0,0))\n",
    "                  #print(z[z[\"ID Teamu\"]==i].index[j])\n",
    "                \n",
    "             elif(\"T\" in list(z[z[\"ID Teamu\"]==i][\"ID kalkulacji\"])[j]):\n",
    "                \n",
    "                #prow = z[z[\"ID Teamu\"]==i][\"Prowizja\"].sum()\n",
    "                #prog = list(stawki[(stawki.index==z[z[\"ID Teamu\"]==i].index[j])][\"Próg PLN\"])\n",
    "                #stopa = list(stawki[(stawki.index==z[z[\"ID Teamu\"]==i].index[j])][\"Stawka %\"])[0]\n",
    "                \n",
    "                for k in range(1,len(prog)):\n",
    "                        if (prog[k]-prow)<0 : \n",
    "                            stopa = list(stawki[(stawki.index==z[z[\"ID Teamu\"]==i].index[j])][\"Stawka %\"])[k]\n",
    "                            \n",
    "                #print(\"XXXXXXXXXXX\")\n",
    "                #print(stopa)\n",
    "                #print(z[z[\"ID Teamu\"]==i][\"Prowizja\"].sum())\n",
    "                #print(S(z[z[\"ID Teamu\"]==i][\"Prowizja\"].sum(),stopa,0,0))\n",
    "                #print(z[z[\"ID Teamu\"]==i].index[j])\n",
    "                #print(z[z[\"ID Teamu\"]==i][\"ID Teamu\"])\n",
    "\n",
    "                \n"
   ]
  },
  {
   "cell_type": "code",
   "execution_count": null,
   "id": "4fff3c10",
   "metadata": {},
   "outputs": [],
   "source": []
  },
  {
   "cell_type": "code",
   "execution_count": null,
   "id": "86f3ebcc",
   "metadata": {},
   "outputs": [],
   "source": []
  }
 ],
 "metadata": {
  "kernelspec": {
   "display_name": "Python 3 (ipykernel)",
   "language": "python",
   "name": "python3"
  },
  "language_info": {
   "codemirror_mode": {
    "name": "ipython",
    "version": 3
   },
   "file_extension": ".py",
   "mimetype": "text/x-python",
   "name": "python",
   "nbconvert_exporter": "python",
   "pygments_lexer": "ipython3",
   "version": "3.10.10"
  }
 },
 "nbformat": 4,
 "nbformat_minor": 5
}
